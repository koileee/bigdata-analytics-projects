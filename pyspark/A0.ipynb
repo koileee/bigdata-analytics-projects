{
 "cells": [
  {
   "cell_type": "markdown",
   "metadata": {
    "deletable": false,
    "tags": [
     "instructions"
    ]
   },
   "source": [
    "## CS431/631 Data Intensive Distributed Analytics\n",
    "### Fall 2020 - Assignment 0\n",
    "---"
   ]
  },
  {
   "cell_type": "markdown",
   "metadata": {
    "deletable": false,
    "tags": [
     "instructions"
    ]
   },
  },
  {
   "cell_type": "markdown",
   "metadata": {
    "deletable": false,
    "tags": [
     "instructions"
    ]
   },
   "source": [
    "---\n",
    "For this assignment, you will be using Python to do some analysis of the text of Shakespeare's plays.    You should already have uploaded the text file (`Shakespeare.txt`) to the hub.   You should also have downloaded the Python tokenizer module, as `simple_tokenize.py`.\n",
    "\n",
    "Let's first try running some simple Python code to make sure that everything is set up properly and ready to go.   The code in the next box will open `Shakespeare.txt`, read the file line by line, and tokenize each line that it reads in.    Try running the code by selecting the box and typing `Shift-Return`, i.e., hit the carriage return key while you are holding the shift key.   It may take a few seconds to run."
   ]
  },
  {
   "cell_type": "code",
   "execution_count": 8,
   "metadata": {
    "deletable": false,
    "tags": [
     "instructions"
    ]
   },
   "outputs": [
    {
     "data": {
      "text/plain": [
       "['the', 'end']"
      ]
     },
     "execution_count": 8,
     "metadata": {},
     "output_type": "execute_result"
    }
   ],
   "source": [
    "# this imports the SimpleTokenize function from the simple_tokenize.py file that you uploaded\n",
    "from simple_tokenize import simple_tokenize\n",
    "\n",
    "# Now, let's tokenize Shakespeare's plays\n",
    "filename = 'Shakespeare.txt'\n",
    "with open(filename) as f:\n",
    "    for line in f:\n",
    "        # tokenize, one line at a time\n",
    "        t = simple_tokenize(line)\n",
    "t"
   ]
  },
  {
   "cell_type": "markdown",
   "metadata": {
    "deletable": false,
    "tags": [
     "instructions"
    ]
   },
   "source": [
    "---\n",
    "### Important\n",
    "\n",
    "The questions that follow ask you to implement functions whose prototypes are given to you. **Do _not_ change the prototypes of the functions. Do _not_ write code outside of the functions.** In particular, do not use the same cell as the function declaration invoke the function.\n",
    "\n",
    "You may use specific cells, identified by `# Your tests here`, for test purposes. Code in these cells will *not* be executed when marking your assignment.\n",
    "\n",
    "---"
   ]
  },
  {
   "cell_type": "markdown",
   "metadata": {
    "deletable": false,
    "tags": [
     "instructions"
    ]
   },
   "source": [
    "#### Question 1  (2/10 marks):\n",
    "When the code is being executed, the cell number will change to \\*, i.e., you should see `In [*]` in the left margin next to the cell.   After the code has finished running, the cell number will change to `In [1]` (indicating that this is the first code cell to be executed) and the notebook will display the resulting output immediately after cell.   In this case, you shoueld see the output\n",
    "`['the', 'end']`.   In the next cell, briefly explain why the code produced this output.\n"
   ]
  },
  {
   "cell_type": "markdown",
   "metadata": {
    "deletable": false,
    "tags": [
     "answer"
    ]
   },
   "source": [
    "#### Your answer to Question 1:\n",
    "\n",
    "The code goes through each line in the \"Shakespear.txt\", tokenizes the line into lower cased words and stores it in t.\n",
    "\n",
    "t shows `['the', 'end']`, because \"THE END\" is the last line in \"Shakespear.txt\", and after tokenizing \"THE END\" to lowercased words, one gets `['the', 'end']`. \n",
    "\n",
    "\n"
   ]
  },
  {
   "cell_type": "markdown",
   "metadata": {
    "deletable": false,
    "tags": [
     "instructions"
    ]
   },
   "source": [
    "Remember that when you close and halt a notebook, any unsaved work in the notebook will be lost.   To save the contents of your notebook, use `Save and Checkpoint` (from the File menu).   \n",
    "\n",
    "---\n",
    "\n",
    "Now it is time for you to write some code.   Let's find the most frequently appearing tokens in Shakespeare's work.\n",
    "\n",
    "#### Question 2 (4/10 marks):\n",
    "In the next box, implement the function `top_50_tokens` using Python code that return the list of the 50 most frequently appearing tokens and their frequency, i.e., the number of times that each occurs.   Please use the `simple_tokenize` function, without modification, to tokenize the text, so that everyone is working with the same definition of what a token is.   If you wish, feel free to start with the Python code in the box above - just copy it from there and paste it below."
   ]
  },
  {
   "cell_type": "code",
   "execution_count": 9,
   "metadata": {
    "deletable": false,
    "tags": [
     "code"
    ]
   },
   "outputs": [],
   "source": [
    "from simple_tokenize import simple_tokenize\n",
    "\n",
    "def top_50_tokens(filename='Shakespeare.txt'):\n",
    "    top_50_tokens_list = []\n",
    "    # In this function, write Python code to find the 50 most frequent tokens in Shakespeare.txt\n",
    "    # Make sure that your code is commented\n",
    "    \n",
    "    # create a word frequency dictionary\n",
    "    word_freq = {}\n",
    "    # open file and tokenize each line\n",
    "    with open(filename) as f:\n",
    "        for line in f:\n",
    "            # tokenize, one line at a time\n",
    "            t = simple_tokenize(line)\n",
    "            # for each word, add its frequency to the dictionary\n",
    "            for word in t:\n",
    "                word_freq[word] = word_freq.get(word,0) + 1\n",
    "    # final token list are the 50 words in word_freq with highest frequency\n",
    "    top_50_tokens_list = sorted(word_freq.items(), key=lambda x: x[1], reverse=True)[:50]\n",
    "    return top_50_tokens_list"
   ]
  },
  {
   "cell_type": "code",
   "execution_count": 10,
   "metadata": {
    "deletable": false,
    "tags": [
     "tests"
    ]
   },
   "outputs": [
    {
     "data": {
      "text/plain": [
       "[('the', 27378),\n",
       " ('and', 26082),\n",
       " ('i', 20717),\n",
       " ('to', 19661),\n",
       " ('of', 17473),\n",
       " ('a', 14723),\n",
       " ('you', 13630),\n",
       " ('my', 12490),\n",
       " ('in', 10996),\n",
       " ('that', 10915),\n",
       " ('is', 9137),\n",
       " ('not', 8512),\n",
       " ('with', 7778),\n",
       " ('me', 7777),\n",
       " ('it', 7692),\n",
       " ('for', 7578),\n",
       " ('be', 6867),\n",
       " ('his', 6859),\n",
       " ('your', 6657),\n",
       " ('this', 6606),\n",
       " ('but', 6277),\n",
       " ('he', 6260),\n",
       " ('have', 5885),\n",
       " ('as', 5744),\n",
       " ('thou', 5491),\n",
       " ('him', 5205),\n",
       " ('so', 5056),\n",
       " ('will', 4977),\n",
       " ('what', 4469),\n",
       " ('thy', 4034),\n",
       " ('all', 3923),\n",
       " ('her', 3850),\n",
       " ('no', 3797),\n",
       " ('by', 3768),\n",
       " ('do', 3753),\n",
       " ('shall', 3592),\n",
       " ('if', 3500),\n",
       " ('are', 3405),\n",
       " ('we', 3298),\n",
       " ('thee', 3180),\n",
       " ('on', 3062),\n",
       " ('lord', 3062),\n",
       " ('our', 3061),\n",
       " ('king', 2871),\n",
       " ('good', 2834),\n",
       " ('now', 2789),\n",
       " ('sir', 2763),\n",
       " ('from', 2640),\n",
       " ('o', 2621),\n",
       " ('come', 2519)]"
      ]
     },
     "execution_count": 10,
     "metadata": {},
     "output_type": "execute_result"
    }
   ],
   "source": [
    "top_50_tokens(filename='Shakespeare.txt')"
   ]
  },
  {
   "cell_type": "markdown",
   "metadata": {
    "deletable": false,
    "tags": [
     "instructions"
    ]
   },
   "source": [
    "Be sure to test the code that you have written by running it.   When you submit your notebook to us, we will run your code when we mark you assignment.   As a sanity test on you output, our reference implementation finds that the most frequent word is \"the\", which occurs 27378 times.\n",
    "\n",
    "---\n",
    "\n",
    "Once you have found the 50 most frequent tokens, let's move on to something slightly more complicated.\n",
    "\n",
    "#### Question 3 (4/10 marks):\n",
    "\n",
    "Instead of the most frequent tokens appearing in Shakespeare's works, suppose that we want a list of words that appear after the word \"perfect\", on the same line, in Shakespeare's text. \n",
    "(Note: the \"words\" we are interested in for this question are tokens, as returned by simple_tokenize.)\n",
    "\n",
    "For example, *All's Well That Ends Well* includes the line\n",
    ">  Ere I can perfect mine intents, to kneel.\n",
    "\n",
    "so \"mine\" should be part of the output, since it follows \"perfect\" on this line.  To keep the output from getting too long, include only words that appear after \"perfect\" on more than one line.\n",
    "\n",
    "In the next box, implement the function `perfect_x` that returns a dictionary of key/value pairs, where the keys are the words that follow perfect on more than one line, and the values the number of lines in which the pattern is observed. For instance, if 'x' follows 'perfect' on 3 different lines, the entry in the dictionary will be ('x':3) As a sanity check on your output, our reference implementation finds 5 such words."
   ]
  },
  {
   "cell_type": "code",
   "execution_count": 21,
   "metadata": {
    "deletable": false,
    "tags": [
     "code"
    ]
   },
   "outputs": [],
   "source": [
    "from simple_tokenize import simple_tokenize\n",
    "\n",
    "def perfect_x(filename = 'Shakespeare.txt'):\n",
    "    perfect_x_list = []\n",
    "    # In this function, write Python code to find tokens that follow \"perfect\" in Shakespeare.txt \n",
    "    # Make sure that your code is commented\n",
    "    \n",
    "    # a dictionary for words after perfect\n",
    "    words={}\n",
    "    with open(filename) as f:\n",
    "        for line in f:\n",
    "            # tokenize, one line at a time\n",
    "            t = simple_tokenize(line)\n",
    "            # for each word, if it's after perfect, add to words\n",
    "            for i in range(len(t)):\n",
    "                # if current word is perfect\n",
    "                if t[i] == \"perfect\":\n",
    "                    # add the next word to the dictionary and update frequency\n",
    "                    if i+1 < len(t):\n",
    "                        words[t[i+1]] = words.get(t[i+1], 0) + 1\n",
    "        # only append key, value pairs with v > 1\n",
    "        for k, v in words.items():\n",
    "            if v > 1:\n",
    "                perfect_x_list.append((k,v))\n",
    "    return perfect_x_list\n"
   ]
  },
  {
   "cell_type": "code",
   "execution_count": 22,
   "metadata": {
    "deletable": false,
    "tags": [
     "tests"
    ]
   },
   "outputs": [
    {
     "data": {
      "text/plain": [
       "[('honour', 2), ('in', 4), ('love', 4), ('yellow', 2), ('that', 2)]"
      ]
     },
     "execution_count": 22,
     "metadata": {},
     "output_type": "execute_result"
    }
   ],
   "source": [
    "perfect_x(filename)"
   ]
  },
  {
   "cell_type": "markdown",
   "metadata": {
    "deletable": false,
    "tags": [
     "instructions"
    ]
   },
   "source": [
    "That's it!   Don't forget to save your work before closing and halting your notebook.      \n",
    "\n",
    "When you are finished and ready to submit your assignment, download your notebook file (.ipynb) from the hub to your machine, and then follow the submission instructions in the assignment."
   ]
  }
 ],
 "metadata": {
  "kernelspec": {
   "display_name": "Python 3",
   "language": "python",
   "name": "python3"
  },
  "language_info": {
   "codemirror_mode": {
    "name": "ipython",
    "version": 3
   },
   "file_extension": ".py",
   "mimetype": "text/x-python",
   "name": "python",
   "nbconvert_exporter": "python",
   "pygments_lexer": "ipython3",
   "version": "3.7.2"
  }
 },
 "nbformat": 4,
 "nbformat_minor": 2
}
