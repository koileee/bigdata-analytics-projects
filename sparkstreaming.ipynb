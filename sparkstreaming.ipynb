{
  "nbformat": 4,
  "nbformat_minor": 0,
  "metadata": {
    "kernelspec": {
      "display_name": "Python 3",
      "language": "python",
      "name": "python3"
    },
    "language_info": {
      "codemirror_mode": {
        "name": "ipython",
        "version": 3
      },
      "file_extension": ".py",
      "mimetype": "text/x-python",
      "name": "python",
      "nbconvert_exporter": "python",
      "pygments_lexer": "ipython3",
      "version": "3.6.8"
    },
    "colab": {
      "name": "A6.ipynb",
      "provenance": [],
      "collapsed_sections": [],
      "toc_visible": true
    }
  },
  "cells": [
    {
      "cell_type": "markdown",
      "metadata": {
        "id": "R5BLErorljlr"
      },
      "source": [
        "Let's first install Spark. This will take a minute to finish."
      ]
    },
    {
      "cell_type": "code",
      "metadata": {
        "id": "lh5NCoc8fsSO"
      },
      "source": [
        "!apt-get update -qq > /dev/null\n",
        "!apt-get install openjdk-8-jdk-headless -qq > /dev/null\n",
        "!wget -q https://downloads.apache.org/spark/spark-2.4.7/spark-2.4.7-bin-hadoop2.7.tgz\n",
        "!tar xf spark-2.4.7-bin-hadoop2.7.tgz\n",
        "!pip install -q findspark"
      ],
      "execution_count": null,
      "outputs": []
    },
    {
      "cell_type": "markdown",
      "metadata": {
        "id": "ILheUROOhprv"
      },
      "source": [
        "Now that you installed Spark and Java in Colab, it is time to set the environment path which enables you to run Pyspark in your Colab environment. Next we define a function that helps us create SparkContext and StreamingContext. "
      ]
    },
    {
      "cell_type": "code",
      "metadata": {
        "id": "Xnxe-BhPmbBW"
      },
      "source": [
        "import os\n",
        "os.environ[\"JAVA_HOME\"] = \"/usr/lib/jvm/java-8-openjdk-amd64\"\n",
        "os.environ[\"SPARK_HOME\"] = \"/content/spark-2.4.7-bin-hadoop2.7\"\n",
        "\n",
        "import findspark\n",
        "findspark.init()\n",
        "\n",
        "from pyspark import SparkContext, SparkConf\n",
        "from pyspark.streaming import StreamingContext\n",
        "import time\n",
        "\n",
        "# This function creates SparkContext and StreamingContext\n",
        "# Do not change this function\n",
        "def initStreamingContext():\n",
        "    try:\n",
        "      ssc.end()\n",
        "    except:\n",
        "      pass\n",
        "    finally:\n",
        "      spark_conf = SparkConf()\\\n",
        "            .setAppName(\"YourTest\")\\\n",
        "            .setMaster(\"local[*]\")\n",
        "      sc = SparkContext.getOrCreate(spark_conf)\n",
        "      # Creating Streaming Context with batch window size of 1 second\n",
        "      ssc = StreamingContext(sc, 1)\n",
        "      return ssc"
      ],
      "execution_count": 1,
      "outputs": []
    },
    {
      "cell_type": "markdown",
      "metadata": {
        "id": "UeHmOcUv4hg3"
      },
      "source": [
        "### Overview\n",
        "\n",
        "The data we use in this assignment was collected from the sensors installed on a wall-navigating robot. The robot uses 24 ultrasound sensors arranged circularly around its \"waist\". The numbering of the ultrasound sensors starts at the front of the robot and increases in clockwise direction. To make our data streaming scenario realistic, we have developed a server that streams the robot's data to your program (as if you are really getting the data live from the robot). You will use Spark Streaming to perform a few simple tasks on this data.\n",
        "\n",
        "Every line of data transmitted by the server corresponds to a measurement done by the robot. Here is one line of such data:\n",
        "\n",
        "```\n",
        "0.438,0.498,3.625,3.645,5.000,2.918,5.000,2.351,2.332,2.643,1.698,1.687,1.698,1.717,1.744,0.593,0.502,0.493,0.504,0.445,0.431,0.444,0.440,0.429,Slight-Right-Turn\n",
        "```\n",
        "The raw values are the measurements of all 24 ultrasound sensors and the corresponding movement type which can be one of the following:\n",
        "Move-Forward, Slight-Right-Turn, Sharp-Right-Turn, and Slight-Left-Turn.\n",
        "\n",
        "Run the following block to see the flow of data for 5 seconds. This is normal that in each run the data is slightly shifted in time because it depends on the delay of receiving the data from the server across the Internet.Therefore, in every 1 second batch, we might have different numbers of measurements and it can vary across different runs."
      ]
    },
    {
      "cell_type": "code",
      "metadata": {
        "id": "BGFcbRKL7ICo",
        "colab": {
          "base_uri": "https://localhost:8080/"
        },
        "outputId": "a2307b4d-b0ea-47b5-aea7-e04ee329814d"
      },
      "source": [
        "# Let's create ssc.\n",
        "ssc = initStreamingContext()\n",
        "# We initialize a DStream by connecting it to a TCP socket. \n",
        "# The server will start sending data which goes to the robotData DStream.\n",
        "robotData = ssc.socketTextStream(\"datasci.cs.uwaterloo.ca\", 4321)\n",
        "robotData.pprint()\n",
        "ssc.start()\n",
        "# Just wait 5 seconds before we stop the stream.\n",
        "time.sleep(5)\n",
        "ssc.stop()\n"
      ],
      "execution_count": 2,
      "outputs": [
        {
          "output_type": "stream",
          "text": [
            "-------------------------------------------\n",
            "Time: 2020-12-01 20:56:17\n",
            "-------------------------------------------\n",
            "\n",
            "-------------------------------------------\n",
            "Time: 2020-12-01 20:56:18\n",
            "-------------------------------------------\n",
            "\n",
            "-------------------------------------------\n",
            "Time: 2020-12-01 20:56:19\n",
            "-------------------------------------------\n",
            "0.438,0.498,3.625,3.645,5.000,2.918,5.000,2.351,2.332,2.643,1.698,1.687,1.698,1.717,1.744,0.593,0.502,0.493,0.504,0.445,0.431,0.444,0.440,0.429,Slight-Right-Turn\n",
            "0.438,0.498,3.625,3.648,5.000,2.918,5.000,2.637,2.332,2.649,1.695,1.687,1.695,1.720,1.744,0.592,0.502,0.493,0.504,0.449,0.431,0.444,0.443,0.429,Slight-Right-Turn\n",
            "0.438,0.498,3.625,3.629,5.000,2.918,5.000,2.637,2.334,2.643,1.696,1.687,1.695,1.717,1.744,0.593,0.502,0.493,0.504,0.449,0.431,0.444,0.446,0.429,Slight-Right-Turn\n",
            "0.437,0.501,3.625,3.626,5.000,2.918,5.000,2.353,2.334,2.642,1.730,1.687,1.695,1.717,1.744,0.593,0.502,0.493,0.504,0.449,0.431,0.444,0.444,0.429,Slight-Right-Turn\n",
            "0.438,0.498,3.626,3.629,5.000,2.918,5.000,2.640,2.334,2.639,1.696,1.687,1.695,1.717,1.744,0.592,0.502,0.493,0.504,0.449,0.431,0.444,0.441,0.429,Slight-Right-Turn\n",
            "0.439,0.498,3.626,3.629,5.000,2.918,5.000,2.633,2.334,2.645,1.705,1.686,1.694,1.719,1.744,0.589,0.502,0.493,0.504,0.446,0.431,0.444,0.444,0.430,Slight-Right-Turn\n",
            "0.440,5.000,3.627,3.628,5.000,2.919,3.028,2.346,2.330,2.638,1.727,1.684,1.692,1.714,1.745,0.588,0.501,0.492,0.504,0.451,0.433,0.446,0.444,0.432,Slight-Right-Turn\n",
            "\n",
            "-------------------------------------------\n",
            "Time: 2020-12-01 20:56:20\n",
            "-------------------------------------------\n",
            "0.444,5.021,3.631,3.634,5.000,2.919,5.000,2.626,2.327,2.638,1.698,1.680,1.688,1.709,1.740,0.595,0.500,0.491,0.503,0.453,0.436,0.448,0.444,0.436,Slight-Right-Turn\n",
            "0.451,5.025,3.635,3.639,5.000,2.920,3.027,2.620,2.323,2.632,1.706,1.673,1.681,1.703,0.753,0.595,0.499,0.491,0.502,0.457,0.440,0.453,0.454,0.442,Sharp-Right-Turn\n",
            "0.458,5.022,3.640,3.644,5.000,2.922,5.000,2.346,2.321,2.628,1.688,1.666,1.674,1.696,0.744,0.590,0.496,0.490,0.498,0.462,0.444,0.458,0.461,0.449,Sharp-Right-Turn\n",
            "0.465,0.525,3.646,3.670,5.000,2.923,5.000,2.611,2.315,2.631,1.674,1.658,1.666,1.688,0.735,0.593,0.495,0.488,0.497,0.467,0.449,0.462,0.469,0.457,Sharp-Right-Turn\n",
            "0.473,0.533,3.652,3.676,5.000,2.925,5.000,2.607,2.310,2.623,1.669,1.651,1.659,1.684,0.729,0.578,0.496,0.487,0.498,0.469,0.454,0.467,0.476,0.465,Sharp-Right-Turn\n",
            "0.481,0.544,3.658,3.678,5.000,2.926,5.000,2.606,2.303,2.619,1.668,1.643,1.651,1.275,0.723,0.581,0.495,0.486,0.497,0.477,0.459,0.472,0.484,0.472,Sharp-Right-Turn\n",
            "0.484,0.544,3.661,3.665,5.000,2.928,5.000,2.321,2.304,5.022,1.647,1.639,1.646,1.270,0.757,0.623,0.493,0.484,0.495,0.480,0.461,0.474,0.485,0.476,Sharp-Right-Turn\n",
            "0.484,0.532,3.669,3.662,2.945,2.926,5.000,2.326,2.306,2.620,1.648,1.639,1.646,1.270,0.760,0.533,0.493,0.483,0.494,0.507,0.461,0.473,0.486,0.476,Sharp-Right-Turn\n",
            "0.482,0.520,3.685,3.664,2.952,2.927,5.000,2.981,2.307,2.329,1.650,1.640,1.644,1.268,0.757,0.533,0.492,0.482,0.492,0.513,0.459,0.474,0.485,0.474,Sharp-Right-Turn\n",
            "0.481,0.522,3.682,3.661,2.955,2.927,2.957,2.984,1.700,2.622,1.651,1.641,1.645,1.272,0.761,0.530,0.492,0.482,0.492,0.513,0.462,0.486,0.483,0.473,Sharp-Right-Turn\n",
            "\n",
            "-------------------------------------------\n",
            "Time: 2020-12-01 20:56:21\n",
            "-------------------------------------------\n",
            "0.480,0.525,3.694,3.664,2.948,2.926,2.950,2.995,1.697,2.619,1.651,1.642,1.646,1.269,0.762,0.530,0.493,0.482,0.492,0.516,0.462,0.486,0.483,0.473,Sharp-Right-Turn\n",
            "0.481,0.515,5.018,3.664,2.956,2.927,2.947,2.993,1.697,2.622,1.651,1.641,1.645,1.269,0.765,0.592,0.489,0.482,0.495,0.531,0.462,0.499,0.483,0.473,Sharp-Right-Turn\n",
            "0.479,5.000,3.696,3.661,2.953,2.927,2.944,2.993,1.702,2.622,1.649,1.642,1.645,1.269,0.812,0.588,0.489,0.481,0.491,0.510,0.462,0.481,0.483,0.473,Sharp-Right-Turn\n",
            "0.480,0.506,5.019,3.665,2.941,2.929,2.945,2.981,1.700,2.616,1.652,1.642,1.645,1.271,0.814,0.643,0.491,0.480,0.493,0.524,0.461,0.469,0.484,0.473,Sharp-Right-Turn\n",
            "0.479,5.000,5.019,3.661,2.943,2.930,2.942,2.996,1.698,2.312,1.653,1.642,1.644,1.274,0.811,0.617,0.491,0.479,0.491,0.575,0.461,0.465,0.484,0.473,Sharp-Right-Turn\n",
            "0.479,5.000,5.020,3.662,2.945,2.931,2.942,2.997,1.700,2.313,1.654,1.642,1.644,1.270,0.908,0.616,0.490,0.478,0.489,0.503,0.460,0.460,0.478,0.473,Slight-Right-Turn\n",
            "0.481,0.508,5.021,3.660,2.954,2.936,2.946,2.966,1.705,2.313,1.654,1.643,1.643,1.270,1.689,0.678,0.493,0.477,0.483,0.497,0.467,0.459,0.476,0.473,Slight-Right-Turn\n",
            "0.486,0.510,0.522,3.662,2.958,2.938,2.939,2.627,1.707,2.314,1.659,1.643,1.639,1.665,1.702,0.696,0.516,0.476,0.477,0.547,0.465,0.457,0.470,0.474,Slight-Right-Turn\n",
            "0.479,0.521,0.520,3.663,2.954,2.938,2.941,2.957,1.712,2.314,1.660,1.643,1.638,1.660,1.758,0.688,0.534,0.475,0.475,0.489,0.461,0.456,0.465,0.474,Slight-Right-Turn\n",
            "0.480,0.554,0.521,3.664,2.954,2.938,2.941,2.632,1.715,2.313,1.660,1.643,1.637,1.656,1.761,0.687,0.553,0.475,0.474,0.558,0.462,0.453,0.465,0.476,Slight-Right-Turn\n",
            "\n",
            "-------------------------------------------\n",
            "Time: 2020-12-01 20:56:22\n",
            "-------------------------------------------\n",
            "0.481,0.511,5.023,3.665,2.954,2.937,2.941,2.627,1.707,2.312,1.660,1.641,1.636,1.655,1.756,0.687,0.545,0.475,0.475,0.504,0.463,0.458,0.470,0.477,Slight-Right-Turn\n",
            "0.482,0.528,0.524,3.665,2.953,2.937,2.940,2.629,1.706,2.312,1.657,1.640,1.635,1.654,1.756,0.566,0.549,0.475,0.476,0.505,0.464,0.459,0.468,0.477,Slight-Right-Turn\n",
            "0.482,0.529,0.521,3.665,2.956,2.940,2.940,2.627,1.706,2.312,1.656,1.640,1.635,1.654,1.756,0.566,0.556,0.475,0.476,0.502,0.463,0.459,0.468,0.477,Slight-Right-Turn\n",
            "0.482,0.525,0.524,3.665,2.953,2.940,2.940,2.630,1.709,2.311,1.660,1.640,1.635,1.654,1.756,0.563,0.542,0.475,0.476,0.488,0.464,0.459,0.468,0.478,Slight-Right-Turn\n",
            "0.482,0.512,0.524,3.665,2.953,2.940,2.940,2.629,1.709,2.311,1.660,1.640,1.635,1.654,1.755,0.563,0.545,0.475,0.475,0.485,0.464,0.459,0.468,0.478,Slight-Right-Turn\n",
            "0.484,0.514,0.525,3.667,2.954,2.938,2.941,2.957,1.707,2.310,1.658,1.638,1.633,1.652,1.753,0.682,0.535,0.475,0.475,0.544,0.465,0.457,0.469,0.483,Slight-Right-Turn\n",
            "0.487,0.533,0.525,3.669,2.955,2.941,2.938,2.958,1.708,2.307,1.652,1.635,1.629,1.648,1.749,0.535,0.541,0.474,0.474,0.525,0.468,0.459,0.471,0.483,Slight-Right-Turn\n",
            "0.492,0.537,0.532,3.673,2.956,2.942,2.942,3.472,1.704,2.304,1.647,1.630,1.624,1.646,1.744,0.526,0.545,0.474,0.473,0.486,0.471,0.462,0.474,0.488,Slight-Right-Turn\n",
            "0.494,0.539,0.538,3.677,2.956,2.942,2.939,3.053,1.695,2.298,1.645,1.624,1.618,1.639,1.780,0.526,0.530,0.474,0.473,0.542,0.476,0.467,0.478,0.498,Slight-Right-Turn\n",
            "0.501,0.539,5.024,3.681,2.960,2.943,2.942,3.738,2.596,2.294,1.635,1.617,1.611,1.635,1.728,0.523,0.541,0.474,0.473,0.495,0.481,0.472,0.483,0.505,Slight-Right-Turn\n",
            "\n"
          ],
          "name": "stdout"
        }
      ]
    },
    {
      "cell_type": "markdown",
      "metadata": {
        "id": "I61flWvt8FLp"
      },
      "source": [
        "### Question 1 (4/10 marks)\n",
        "An important factor for a navigating robot is avoiding obstacles. This is why there are so many sensors on this robot to measure the distance to all surrounding obstacles in all directions. Write a program that every second reports the smallest distances measured in the last 3 seconds by any sensor.\n",
        "\n",
        "\n",
        "For example, if the robot performs the following two measurements in the last 3 seconds:\n",
        "```\n",
        "0.482,0.512,0.524,3.665,2.953,2.940,2.940,2.629,1.709,2.311,1.660,1.640,1.635,1.654,1.755,0.563,0.545,0.475,0.475,0.485,0.464,0.459,0.468,0.478,Slight-Right-Turn\n",
        "0.484,0.514,0.525,3.667,2.954,2.938,2.941,2.957,1.707,2.310,1.658,1.638,1.633,1.652,1.753,0.682,0.535,0.475,0.475,0.544,0.465,0.457,0.469,0.483,Slight-Right-Turn\n",
        "```\n",
        "your program must print:\n",
        "```\n",
        "-------------------------------------------\n",
        "Time: 2020-11-27 23:56:24\n",
        "-------------------------------------------\n",
        "0.457\n",
        "```\n",
        "Note that this is the output for one 3-second window. The program should keep printing the smallest distance for all windows as long as your program is running.\n",
        "\n",
        "All of the calculations must be performed in Spark and not the driver program. You must use `pprint` at the end to print the results.\n",
        "\n",
        "You can consult [this document](https://spark.apache.org/docs/latest/api/python/pyspark.streaming.html) to find more about available transformations on DStreams.\n",
        "\n",
        "\n"
      ]
    },
    {
      "cell_type": "code",
      "metadata": {
        "id": "7259HnozDivW",
        "colab": {
          "base_uri": "https://localhost:8080/"
        },
        "outputId": "4184a8b5-ec12-4421-edc6-d48a02fe3006"
      },
      "source": [
        "ssc = initStreamingContext()\n",
        "robotData = ssc.socketTextStream(\"datasci.cs.uwaterloo.ca\", 4321)\n",
        "#### Your Solution to Question 1 here\n",
        "def transform(line):\n",
        "  l = [float(x) for x in line]\n",
        "  return (1,min(l))\n",
        "def minimum(line):\n",
        "  return min(line[1])\n",
        "numbers = robotData.map(lambda x: x.split(\",\")[:-1]).map(lambda x: transform(x))\n",
        "numbers = numbers.window(3, 1).groupByKey().map(minimum)\n",
        "numbers.pprint()\n",
        "ssc.start()\n",
        "# Let's wait for 10 seconds before we stop the program.\n",
        "# Feel free to change this value but make sure you change it back to 10 before submission.\n",
        "time.sleep(10)\n",
        "ssc.stop()"
      ],
      "execution_count": 3,
      "outputs": [
        {
          "output_type": "stream",
          "text": [
            "-------------------------------------------\n",
            "Time: 2020-12-02 01:28:02\n",
            "-------------------------------------------\n",
            "\n",
            "-------------------------------------------\n",
            "Time: 2020-12-02 01:28:03\n",
            "-------------------------------------------\n",
            "\n",
            "-------------------------------------------\n",
            "Time: 2020-12-02 01:28:04\n",
            "-------------------------------------------\n",
            "0.429\n",
            "\n",
            "-------------------------------------------\n",
            "Time: 2020-12-02 01:28:05\n",
            "-------------------------------------------\n",
            "0.429\n",
            "\n",
            "-------------------------------------------\n",
            "Time: 2020-12-02 01:28:06\n",
            "-------------------------------------------\n",
            "0.429\n",
            "\n",
            "-------------------------------------------\n",
            "Time: 2020-12-02 01:28:07\n",
            "-------------------------------------------\n",
            "0.436\n",
            "\n",
            "-------------------------------------------\n",
            "Time: 2020-12-02 01:28:08\n",
            "-------------------------------------------\n",
            "0.453\n",
            "\n",
            "-------------------------------------------\n",
            "Time: 2020-12-02 01:28:09\n",
            "-------------------------------------------\n",
            "0.457\n",
            "\n",
            "-------------------------------------------\n",
            "Time: 2020-12-02 01:28:10\n",
            "-------------------------------------------\n",
            "0.47\n",
            "\n",
            "-------------------------------------------\n",
            "Time: 2020-12-02 01:28:11\n",
            "-------------------------------------------\n",
            "0.471\n",
            "\n"
          ],
          "name": "stdout"
        }
      ]
    },
    {
      "cell_type": "markdown",
      "metadata": {
        "id": "WwkvRCWmEPZH"
      },
      "source": [
        "### Question 2 (6/10 marks)\n",
        "In this question, you characterize movements of the robot. The last field in every line indicates the movement type. Write a program that every second reports what movements were performed by the robot in the last 3 seconds. You should also report the ratio of each movement. For example, if 10 movements are \"Slight-Right-Turn\" out of 50 movements in the last 3 seconds, your program should print: Slight-Right-Turn 0.2. Finally, the movements should be reported in the descending order of the radios. Make sure you print \"----------\" to indicate the end of each window.\n",
        "\n",
        "\n",
        "Here is an example of the expected output:\n",
        "```\n",
        "Slight-Right-Turn 0.6666666666666666\n",
        "Sharp-Right-Turn 0.3333333333333333\n",
        "----------\n",
        "Sharp-Right-Turn 0.5384615384615384\n",
        "Slight-Right-Turn 0.46153846153846156\n",
        "----------\n",
        "Slight-Right-Turn 0.6590909090909091\n",
        "Sharp-Right-Turn 0.3409090909090909\n",
        "----------\n",
        "Slight-Right-Turn 0.75\n",
        "Sharp-Right-Turn 0.19642857142857142\n",
        "Move-Forward 0.05357142857142857\n",
        "----------\n",
        "```\n",
        "Note that all of these calculations much be performed in Spark and not the driver program. The driver program should only print the final result."
      ]
    },
    {
      "cell_type": "code",
      "metadata": {
        "id": "8zq5XvBNGIFN",
        "colab": {
          "base_uri": "https://localhost:8080/"
        },
        "outputId": "8088aa2c-4728-4b34-f8a9-a9c74581fccf"
      },
      "source": [
        "ssc = initStreamingContext()\n",
        "robotData = ssc.socketTextStream(\"datasci.cs.uwaterloo.ca\", 4321)\n",
        "#### Your Solution to Question 2 here\n",
        "\n",
        "def transform(l, total):\n",
        "  l = [(x[0], x[1]/total) for x in l]\n",
        "  return l\n",
        "\n",
        "def rddSort(rdd):\n",
        "    return rdd.sortByKey(ascending=False)\n",
        "\n",
        "def takeAndPrint(rdd):\n",
        "  taken = rdd.collect()\n",
        "  for record in taken:\n",
        "      print(record[1], record[0])\n",
        "  print(\"----------\")\n",
        "\n",
        "movement = robotData.window(3, 1).map(lambda x: (1,(x.split(\",\")[-1], 1)))\\\n",
        "                    .groupByKey()\\\n",
        "                    .map(lambda x : ( len(list(x[1])), list(x[1])))\\\n",
        "                    .flatMap(lambda x: transform(x[1], x[0]))\\\n",
        "                    .reduceByKey(lambda x, y: x+y)\\\n",
        "                    .map(lambda x: (x[1], x[0]))\\\n",
        "                    .transform(rddSort)\\\n",
        "                    .foreachRDD(takeAndPrint)\n",
        "#movement.pprint()\n",
        "ssc.start()\n",
        "# Let's wait for 10 seconds before we stop the program.\n",
        "# Feel free to change this value but make sure you change it back to 10 before submission.\n",
        "time.sleep(10)\n",
        "ssc.stop()"
      ],
      "execution_count": 35,
      "outputs": [
        {
          "output_type": "stream",
          "text": [
            "Slight-Right-Turn 1.0\n",
            "----------\n",
            "Slight-Right-Turn 0.6153846153846154\n",
            "Sharp-Right-Turn 0.38461538461538464\n",
            "----------\n",
            "Sharp-Right-Turn 0.6086956521739129\n",
            "Slight-Right-Turn 0.3913043478260869\n",
            "----------\n",
            "Slight-Right-Turn 0.5625\n",
            "Sharp-Right-Turn 0.4375\n",
            "----------\n",
            "Slight-Right-Turn 0.7222222222222224\n",
            "Sharp-Right-Turn 0.27777777777777785\n",
            "----------\n",
            "Slight-Right-Turn 0.9761904761904769\n",
            "Sharp-Right-Turn 0.023809523809523808\n",
            "----------\n",
            "Slight-Right-Turn 0.6041666666666666\n",
            "Move-Forward 0.3749999999999999\n",
            "Sharp-Right-Turn 0.020833333333333332\n",
            "----------\n"
          ],
          "name": "stdout"
        }
      ]
    },
    {
      "cell_type": "markdown",
      "metadata": {
        "deletable": false,
        "tags": [
          "instructions"
        ],
        "id": "3hVKBrDDi7Oo"
      },
      "source": [
        "---\n",
        "Don't forget to save your workbook!   When you are finished and you are ready to submit your assignment, download your notebook file (.ipynb) from the hub to your machine, and then follow the submission instructions in the assignment."
      ]
    }
  ]
}