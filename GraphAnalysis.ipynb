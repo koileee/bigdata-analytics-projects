{
 "cells": [
  {
   "cell_type": "markdown",
   "metadata": {},
   "source": [
    "---\n",
    "Use Python and Spark to perform some graph analysis, using a graph of the Gnutella server network.   In this graph, each node represents a server, and each (directed) edge represents a connection between servers in Gnutella's peer-to-peer network.  The input file for this assignment, `p2p-Gnutella08-adj.txt`, represents the graph as an adjacency list.   Each server (node) is identified by a unique number, and each line in the file gives the adjacency list for a single server.\n",
    "For example, this line:\n",
    "> 91\t243\t1923\t2194\n",
    "\n",
    "gives the adjacency list for server `91`.   It indicates that there are edges from server `91` to servers `243`, `1923`, and `2194`.    According to the Stanford Network Analysis Project, which collected these data, [the graph includes 6301 servers and 20777 edges](http://snap.stanford.edu/data/p2p-Gnutella08.html).\n",
    "\n",
    "As you know from the previous assignment, you must tell the Python interpreter where to find Spark before performing any Spark operations in your program.   So, start by doing that:"
   ]
  },
  {
   "cell_type": "code",
   "execution_count": 1,
   "metadata": {},
   "outputs": [],
   "source": [
    "import findspark\n",
    "findspark.init(\"/u/cs451/packages/spark\")\n",
    "\n",
    "from pyspark import SparkContext, SparkConf"
   ]
  },
  {
   "cell_type": "markdown",
   "metadata": {},
   "source": [
    "and then create a `SparkContext`:"
   ]
  },
  {
   "cell_type": "code",
   "execution_count": 2,
   "metadata": {},
   "outputs": [],
   "source": [
    "import random\n",
    "sc = SparkContext(appName=\"YourTest\", master=\"local[2]\", conf=SparkConf().set('spark.ui.port', random.randrange(4000,5000)))"
   ]
  },
  {
   "cell_type": "markdown",
   "metadata": {},
   "source": [
    "---\n",
    "### Important\n",
    "\n",
    "###### The questions that follow ask you to implement functions whose prototypes are given to you. Do **NOT** change the prototypes of the functions. Do **NOT** write code outside of functions. All necessary code should be included in the function body (except for import statements). You may declare functions inside of the function body. When marking, we will execute your code by calling the functions from an external program, which is why your code cannot rely on statements running outside functions. Please remove any call to the functions that you may have introduced for test purposes before submitting your notebook."
   ]
  },
  {
   "cell_type": "markdown",
   "metadata": {},
   "source": [
    "---\n",
    "\n",
    "- How many nodes and edges are there in the graph?  (This should confirm the numbers given above.)\n",
    "- How many nodes of each outdegree are there? That is, how many nodes have no outgoing edges, how many have one outgoing edge, how many have two outgoing edges, and so on?\n",
    "- How many nodes of each indegree are there?\n",
    "\n",
    "You should use Spark to answer these questions.   Do *not* load the entire graph into your Python driver program."
   ]
  },
  {
   "cell_type": "code",
   "execution_count": 3,
   "metadata": {},
   "outputs": [],
   "source": [
    "def num_nodes_edges():\n",
    "    \"\"\"Returns a tuple (num_nodes, num_edges)\"\"\"\n",
    "    #### Your code for Question 1.1 should go here\n",
    "    graph = sc.textFile(\"p2p-Gnutella08-adj.txt\")\n",
    "    nodes = graph.count()\n",
    "    edges = graph.map(lambda x: x.split(\"\\t\")).map(lambda x: len(x)-1).sum()\n",
    "    return (nodes, edges)\n",
    "\n",
    "def out_counts():\n",
    "    \"\"\"Returns a dictionary where the keys are the outdegrees, and the \n",
    "    values are the number of nodes of the corresponding outdegree \"\"\"\n",
    "    #### Your code for Question 1.2 should go here\n",
    "    graph = sc.textFile(\"p2p-Gnutella08-adj.txt\")\n",
    "    edges = graph.map(lambda x: x.split(\"\\t\")).map(lambda x: (len(x)-1,1)).reduceByKey(lambda x,y: x+y).sortBy(lambda x: x[0]) \n",
    "    return edges.collect()\n",
    "\n",
    "def in_counts():\n",
    "    \"\"\"Returns a dictionary where the keys are the indegrees, and the \n",
    "    values are the number of nodes of the corresponding indegree \"\"\"\n",
    "    #### Your code for Question 1.3 should go here\n",
    "    graph = sc.textFile(\"p2p-Gnutella08-adj.txt\")\n",
    "    edges = graph.map(lambda x: x.split(\"\\t\"))\\\n",
    "                 .filter(lambda x: len(x)>1)\\\n",
    "                 .map(lambda x: x[1:])\\\n",
    "                 .flatMap(lambda x: map(lambda y: (y,1), x))\\\n",
    "                 .reduceByKey(lambda x,y: x+y)\\\n",
    "                 .map(lambda x: (x[1],1))\\\n",
    "                 .reduceByKey(lambda x,y: x+y)\\\n",
    "                 .sortBy(lambda x: x[0])\n",
    "    return edges.collect()\n",
    "\n",
    "\n"
   ]
  },
  {
   "cell_type": "code",
   "execution_count": 4,
   "metadata": {},
   "outputs": [
    {
     "data": {
      "text/plain": [
       "(6301, 20777)"
      ]
     },
     "execution_count": 4,
     "metadata": {},
     "output_type": "execute_result"
    }
   ],
   "source": [
    "# Test\n",
    "num_nodes_edges()"
   ]
  },
  {
   "cell_type": "code",
   "execution_count": 11,
   "metadata": {},
   "outputs": [
    {
     "data": {
      "text/plain": [
       "[(0, 3836),\n",
       " (1, 294),\n",
       " (2, 28),\n",
       " (3, 16),\n",
       " (4, 28),\n",
       " (5, 107),\n",
       " (6, 10),\n",
       " (7, 9),\n",
       " (8, 44),\n",
       " (9, 372),\n",
       " (10, 1531),\n",
       " (11, 1),\n",
       " (12, 3),\n",
       " (13, 2),\n",
       " (14, 2),\n",
       " (17, 4),\n",
       " (18, 2),\n",
       " (19, 1),\n",
       " (22, 1),\n",
       " (24, 1),\n",
       " (25, 1),\n",
       " (28, 1),\n",
       " (29, 1),\n",
       " (31, 1),\n",
       " (34, 1),\n",
       " (41, 1),\n",
       " (46, 1),\n",
       " (47, 1),\n",
       " (48, 1)]"
      ]
     },
     "execution_count": 11,
     "metadata": {},
     "output_type": "execute_result"
    }
   ],
   "source": [
    "# Test\n",
    "out_counts()"
   ]
  },
  {
   "cell_type": "code",
   "execution_count": 12,
   "metadata": {},
   "outputs": [
    {
     "data": {
      "text/plain": [
       "[(1, 2452),\n",
       " (2, 1287),\n",
       " (3, 868),\n",
       " (4, 559),\n",
       " (5, 333),\n",
       " (6, 227),\n",
       " (7, 144),\n",
       " (8, 76),\n",
       " (9, 70),\n",
       " (10, 37),\n",
       " (11, 29),\n",
       " (12, 23),\n",
       " (13, 19),\n",
       " (14, 13),\n",
       " (15, 8),\n",
       " (16, 1),\n",
       " (18, 2),\n",
       " (19, 2),\n",
       " (20, 4),\n",
       " (21, 2),\n",
       " (22, 1),\n",
       " (23, 1),\n",
       " (25, 1),\n",
       " (27, 1),\n",
       " (30, 1),\n",
       " (31, 2),\n",
       " (32, 2),\n",
       " (33, 1),\n",
       " (35, 1),\n",
       " (38, 1),\n",
       " (41, 1),\n",
       " (44, 1),\n",
       " (47, 2),\n",
       " (49, 1),\n",
       " (50, 1),\n",
       " (51, 1),\n",
       " (52, 1),\n",
       " (54, 1),\n",
       " (55, 1),\n",
       " (56, 2),\n",
       " (57, 1),\n",
       " (59, 1),\n",
       " (60, 3),\n",
       " (61, 1),\n",
       " (62, 2),\n",
       " (63, 1),\n",
       " (66, 2),\n",
       " (67, 3),\n",
       " (69, 2),\n",
       " (70, 3),\n",
       " (71, 3),\n",
       " (72, 2),\n",
       " (73, 2),\n",
       " (74, 1),\n",
       " (77, 2),\n",
       " (78, 1),\n",
       " (79, 1),\n",
       " (81, 4),\n",
       " (82, 1),\n",
       " (83, 1),\n",
       " (85, 1),\n",
       " (86, 1),\n",
       " (87, 1),\n",
       " (91, 1)]"
      ]
     },
     "execution_count": 12,
     "metadata": {},
     "output_type": "execute_result"
    }
   ],
   "source": [
    "# Test\n",
    "in_counts()"
   ]
  },
  {
   "cell_type": "markdown",
   "metadata": {},
   "source": [
    "---\n",
    "Perform *single source personalized page rank* over the Gnutella graph.  To get started, you should make sure that you have a clear understanding of ordinary (i.e., non-personalized) page rank.  Read the description of page rank in Section 5.3 of [the course textbook](http://mapreduce.cc/).   Personalized page rank is like ordinary page rank except:\n",
    "- One node in the graph is designated as the *source* node. Personalized page rank is performed with respect to that source node.\n",
    "- Personalized page rank is initialized by assigning all probability mass to the source node, and none to the other nodes. In contrast, ordinary page rank is initialized by giving all nodes the same probability mass.\n",
    "- Whenever personalized page rank makes a random jump, it jumps back to the source node. In contrast, ordinary page rank may jump to any node.\n",
    "- In personalized page rank, all probability mass lost dangling nodes is put back into the source nodes.  In ordinary page rank, lost mass is distributed evenly over all nodes.\n",
    "\n",
    "\n",
    "Your task is to write a Spark program to perform personalized page rank over the Gnutella graph for a specified number of iterations, and of course a specific node. The function you will implement takes three input values:\n",
    "- source node id (a non-negative integer)\n",
    "- iteration count (a positive integer)\n",
    "- random jump factor value (a float between 0 and 1)\n",
    "\n",
    "The function should perform personalized page rank, with respect to the specified source node, over the Gnutella graph, for the specified number of iterations, using Spark.\n",
    "The output of your function should be a list of the 10 nodes with the highest personalized page rank with respect to the given source. For each of the 10 nodes, return the node's id and page rank value as a tuple. The list returned by the function should therefore look something like this: `[(node_id_1, highest_pagerank_value), ..., (node_id_10, 10th_highest_pagerank_value)]`"
   ]
  },
  {
   "cell_type": "code",
   "execution_count": 5,
   "metadata": {},
   "outputs": [],
   "source": [
    "def personalized_page_rank(source_node_id, num_iterations, jump_factor):\n",
    "    \"\"\"Returns a list of the 10 nodes with the highest page rank value along with their value, as tuples\n",
    "    [(node_id_1, highest_pagerank_value), ..., (node_id_10, 10th_highest_pagerank_value)]\"\"\"\n",
    "    # your solution to Question 2 here\n",
    "    graph = sc.textFile(\"p2p-Gnutella08-adj.txt\").map(lambda x: x.split(\"\\t\"))\n",
    "    pageRank = graph.map(lambda x: (x[0],0) if x[0] != str(source_node_id) else (x[0],1))\n",
    "    for i in range(num_iterations):\n",
    "        # create adjacency matrix\n",
    "        adjacency_matrix = graph.map(lambda x: (x[0], x[1:])).join(pageRank)\\\n",
    "                                .sortBy(lambda x: x[0])\\\n",
    "                                .map(lambda x: (x[0], \n",
    "                                                x[1][0] if len(x[1][0]) != 0 else [str(source_node_id)],\n",
    "                                                str(source_node_id),\n",
    "                                                1/len(x[1][0]) if len(x[1][0]) != 0 else 1,\n",
    "                                                x[1][1]))\n",
    "        # normal factors\n",
    "        normalFactors = adjacency_matrix.flatMap(lambda x: map(lambda y: (y, x[3]*(1-jump_factor)*x[4]), x[1])).reduceByKey(lambda x,y: x+y)\n",
    "        # random jumps\n",
    "        rands = adjacency_matrix.map(lambda x: (x[2], jump_factor*x[4])).reduceByKey(lambda x,y: x+y)\n",
    "        # update pagerank\n",
    "        pageRank = normalFactors.union(rands).reduceByKey(lambda x,y: x+y).sortBy(lambda x: x[0])\n",
    "        \n",
    "    return pageRank.map(lambda x: (int(x[0]),x[1])).sortBy(lambda x: (x[1], -x[0]), False).take(10)\n",
    "                            "
   ]
  },
  {
   "cell_type": "code",
   "execution_count": 6,
   "metadata": {},
   "outputs": [
    {
     "data": {
      "text/plain": [
       "[(0, 0.36744034928651914),\n",
       " (9, 0.03336716175342781),\n",
       " (5, 0.03296930694287504),\n",
       " (4, 0.03295364825593767),\n",
       " (7, 0.03288235094967802),\n",
       " (8, 0.03234041924744085),\n",
       " (3, 0.03216384352545011),\n",
       " (10, 0.03167238811981311),\n",
       " (1, 0.03150634323051698),\n",
       " (2, 0.03150634323051698)]"
      ]
     },
     "execution_count": 6,
     "metadata": {},
     "output_type": "execute_result"
    }
   ],
   "source": [
    "# Test\n",
    "personalized_page_rank(0, 5, 0.15)"
   ]
  },
  {
   "cell_type": "markdown",
   "metadata": {},
   "source": [
    "---\n",
    "\n",
    "For the previous question, you implemented personalized page rank that ran for a specified number of iterations.  However, it is also common to write iterative algorithms that run until some specified termination condition is reached.\n",
    "For example, for page rank, suppose the $p_i(x)$ represents the probability mass assigned to node $x$ after the $i$th iteration of the algorithm.  ($p_0(x)$ is the initial probability mass of node $x$.)   We define the change of $x$'s probability mass on the $i$th iteration as $\\lvert p_i(x)-p_{i-1}(x) \\rvert$.   Then, we can iterate personalized page rank until the maximum (over all nodes) change is less than a specified threshold, i.e, until all nodes' page ranks have converged.\n",
    "\n",
    "For this question, modify your personalized page rank implementation from Question 2 so that it iterates until the \n",
    "maximum node change is less than $\\frac{0.5}{N}$, where $N$ represents the number of nodes in the graph.\n",
    "This version of the function should take only two inputs: the source node id and the random jump factor.\n",
    "\n",
    "If you were unable to get personalized page rank working in Question 2, replace the code cell below with a text (Markdown) cell, and briefly describe how you *would* have modified your program to incorporate a termination condition based on maximum node change, for partial credit. "
   ]
  },
  {
   "cell_type": "code",
   "execution_count": 7,
   "metadata": {},
   "outputs": [],
   "source": [
    "def personalized_page_rank_stopping_criterion(source_node_id, jump_factor):\n",
    "    \"\"\"Returns a list of the 10 nodes with the highest page rank value along with their value, as tuples\n",
    "    [(node_id_1, highest_pagerank_value), ..., (node_id_10, 10th_highest_pagerank_value)]\"\"\"\n",
    "    # your solution to Question 3 here\n",
    "    graph = sc.textFile(\"p2p-Gnutella08-adj.txt\").map(lambda x: x.split(\"\\t\"))\n",
    "    maxChange = 0.5/graph.count()\n",
    "    # initial pagerank values\n",
    "    pageRank = graph.map(lambda x: (x[0],0) if x[0] != str(source_node_id) else (x[0],1))\n",
    "    \n",
    "    # adjacency_lists for each node\n",
    "    adjacency_matrix = graph.map(lambda x: (x[0], (x[1:] if len(x[1:]) != 0 else [str(source_node_id)], 1/len(x[1:]) if len(x[1:]) != 0 else 1)))\n",
    "    \n",
    "    # cache adjacency_matrix\n",
    "    adjacency_matrix.cache()\n",
    "    while True:\n",
    "        group = adjacency_matrix.join(pageRank).map(lambda x: (x[0], x[1][0][0], str(source_node_id), x[1][0][1], x[1][1]))\n",
    "        normalFactors = group.flatMap(lambda x: map(lambda y: (y, x[3]*(1-jump_factor)*x[4]), x[1])).reduceByKey(lambda x,y: x+y)\n",
    "        rands = group.map(lambda x: (x[2], jump_factor*x[4])).reduceByKey(lambda x,y: x+y)\n",
    "        pageRankNew = normalFactors.union(rands).reduceByKey(lambda x,y: x+y)\n",
    "        unions = pageRankNew.union(pageRank).reduceByKey(lambda x,y: x-y if x>= y else y-x).map(lambda x: x[1]).max()\n",
    "        if unions < maxChange:\n",
    "            return pageRank.map(lambda x: (int(x[0]),x[1])).sortBy(lambda x: (x[1], -x[0]), False).take(10)\n",
    "        pageRank = pageRankNew\n"
   ]
  },
  {
   "cell_type": "code",
   "execution_count": 9,
   "metadata": {},
   "outputs": [
    {
     "name": "stdout",
     "output_type": "stream",
     "text": [
      "24.581775426864624\n"
     ]
    }
   ],
   "source": [
    "# Test\n",
    "import time\n",
    "start = time.time()\n",
    "personalized_page_rank_stopping_criterion(0, 0.15)\n",
    "end = time.time()\n",
    "print(end-start)"
   ]
  },
  {
   "cell_type": "code",
   "execution_count": 171,
   "metadata": {},
   "outputs": [
    {
     "data": {
      "text/plain": [
       "[(0, 0.367454426380708),\n",
       " (9, 0.03285649616511095),\n",
       " (5, 0.03277630394176993),\n",
       " (7, 0.03268689775469701),\n",
       " (4, 0.03258036809400745),\n",
       " (8, 0.03195681610117242),\n",
       " (3, 0.03194432626448388),\n",
       " (10, 0.03140811395340886),\n",
       " (2, 0.031226254685033407),\n",
       " (1, 0.031225627703008508)]"
      ]
     },
     "execution_count": 171,
     "metadata": {},
     "output_type": "execute_result"
    }
   ],
   "source": [
    "personalized_page_rank_stopping_criterion(0, 0.15)"
   ]
  },
  {
   "cell_type": "markdown",
   "metadata": {},
   "source": [
    "---\n",
    "\n",
    "Spark provides the ability to *cache* RDDs.   This is useful when an RDD will be used more than once.   Instead of computing the same RDD multiple times, it can be computed once, cached, and then re-used from the cache.   Read about caching in the Spark textbook, or in the [persistence section of the Spark RDD programming guide](https://spark.apache.org/docs/latest/rdd-programming-guide.html#rdd-persistence).   Caching can be particularly effective for iterative Spark applications, like those you are writing for this assignment.\n",
    "\n",
    "For this question, go back to the code that you wrote to answer Question 3, and add caching.   (Caching will not affect the functionality of your code, i.e., what it computes.   It should only affect performance.)   Don't worry about different persistence levels.   Just use `cache()`, which caches RDDs at the default persistence level.\n",
    "\n",
    "In addition to adding `cache()` calls in your code, use the text cell below to briefly explain how you decided which RDDs to cache. \n",
    "\n",
    "If you were not able to finish Question 3, add caching annotations to your solution for Question 2 instead."
   ]
  },
  {
   "cell_type": "markdown",
   "metadata": {},
   "source": [
    "---\n",
    "#### Your answer to Question 4:\n",
    "\n",
    "\n",
    "I decided to cache the adjacency_matrix structure I created which was created before I start the loop. I had to call upon the adjacency_matrix  in every iteration for mapping each node in the adjacency list with a probability, so by caching it I could reduce recreating it in every loop. This reduced the runtime from 45 seconds to 23 seconds.\n",
    "\n",
    "\n",
    "\n"
   ]
  },
  {
   "cell_type": "markdown",
   "metadata": {},
   "source": [
    "---\n",
    "Don't forget to save your workbook!   When you are finished and you are ready to submit your assignment, download your notebook file (.ipynb) from the hub to your machine, and then follow the submission instructions in the assignment."
   ]
  }
 ],
 "metadata": {
  "kernelspec": {
   "display_name": "Python 3",
   "language": "python",
   "name": "python3"
  },
  "language_info": {
   "codemirror_mode": {
    "name": "ipython",
    "version": 3
   },
   "file_extension": ".py",
   "mimetype": "text/x-python",
   "name": "python",
   "nbconvert_exporter": "python",
   "pygments_lexer": "ipython3",
   "version": "3.6.9"
  }
 },
 "nbformat": 4,
 "nbformat_minor": 2
}